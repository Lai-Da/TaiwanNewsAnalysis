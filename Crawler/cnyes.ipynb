{
 "cells": [
  {
   "cell_type": "code",
   "execution_count": 119,
   "id": "056a9ac1-e71d-41a2-b8a0-bbb15979df8b",
   "metadata": {
    "tags": []
   },
   "outputs": [
    {
     "name": "stdout",
     "output_type": "stream",
     "text": [
      "<p>《彭博》週三 (7 日) 報導，日本電子零組件廠日本村田製作所 (Murata Manufacturing) 預計，蘋果將在未來幾個月進一步削減 iPhone 14 系列手機的生產計畫，需求疲乏令人擔憂。</p> <p>村田製作所是蘋果電腦 iPhone 手機的電子零件主要供應商，也提供南韓三星電子與中國手機商電子零組件，在智慧型手機產業，扮演重要角色。</p> <p>村田製作所預計今年智慧型手機銷量下滑勢頭將持續到 2023 財年，特別是中國市場的銷售將大幅下降，預計明年反彈希望也不大。</p> <figure><img alt=\"(圖片：AFP)\" data-height=\"717\" data-mime=\"image/png\" data-ratio=\"1.0599721059972107\" data-src-m=\"https://cimg.cnyes.cool/prod/news/5030472/m/179e6630d500b8166426928da5327a89.jpg\" data-width=\"760\" src=\"https://cimg.cnyes.cool/prod/news/5030472/l/179e6630d500b8166426928da5327a89.jpg\"> <figcaption>蘋果將在未來幾個月進一步削減 iPhone 14 系列手機的生產計畫，需求疲乏令人擔憂 (圖片：AFP)</figcaption> </figure> <p>日本村田製作所社長中島規巨 (Norio Nakajima) &nbsp;指出：「商店的手機供應情況來看，我看到正在向下修正，希望它不會太深，預計明年智慧型手機市場持續疲弱。」</p> <p>中島規巨沒有直言蘋果的名字，但蘋果是日本村田製作所的主要美國客戶，他並不否認他提到的是蘋果。</p> <p>《彭博》先前報導，自 iPhone 14 系列發布以來，由於需求下滑，蘋果已從最初 9000 萬部 iPhone 的生產目標下調至 8700 萬部。由於需求疲軟，蘋果公司將在未來幾個月進一步削減 iPhone 14 系列手機的生產計畫。</p> <p>中島規巨週三的評論進一步證實，消費者支出因聯準會升息、通膨走升和經濟增長停滯而放緩。</p> <p>村田已多次下調本財年的全球智慧型手機產量預期。該公司最初在 4 月份預計手機製造商的產量將達到 13.7 億部，略高於去年的 13.6 億部。它在 10 月份將其預測下調至不到 12 億部，2 週後又下調至 10.9 億部。</p> <p>這些舉措這都是因為中國對低階手機的需求疲軟。中島規巨表示，最新估計為 10.8 億部，主因是中國製造商手機銷售放緩而略有下調。他還提到：「如果我們的預測進一步下降，那將是因為美國客戶。」</p> <p>受減產消息拖累，蘋果 (AAPL-US) 下滑 1.38% 至每股 140.94 美元。</p> <p class=\"warning\">(本文不開放合作夥伴轉載)</p>\n"
     ]
    }
   ],
   "source": [
    "from html2text import HTML2Text\n",
    "html_content = r1.json()['items']['data'][2]['content']\n",
    "# .replace('&lt;/p&gt;','').replace('&lt;p&gt;','').replace('&lt;br&gt;','').replace('&amp;nbsp;','')\n",
    "text = HTML2Text(bodywidth=0)\n",
    "text.single_line_break = True\n",
    "text.ignore_images = True\n",
    "text.ignore_emphasis = True\n",
    "content = text.handle(html_content).strip()\n",
    "print(content)"
   ]
  },
  {
   "cell_type": "code",
   "execution_count": 1,
   "id": "80069201-3056-4720-ab43-ec5d32cb79f8",
   "metadata": {
    "tags": []
   },
   "outputs": [
    {
     "name": "stdout",
     "output_type": "stream",
     "text": [
      "['〈茂迪展望〉躉購費率不升反降 總座：政府未考量四大因素', '富采打進低軌衛星國家隊 子公司成關鍵射頻晶片唯一供應商', '〈永豐金法說〉近5年總股東報酬144.9% 專業機構投資人持股突破四成', '科技廠辦混凝土需求有撐 國產11月營收持穩19億元', '台股續疲險守14500點 外資連3砍 三大法人賣超101.92億元', '〈永豐金法說〉32萬名股東安啦！明年股利朝配發率6成努力', '穩定物價 政院拍板大宗物資降稅延至明年3月底', '〈台股盤後〉電子權值領跌  價跌量縮失守月線收在14553點', '〈房產〉2022年房市買賣移估回落至32萬棟 6年來首次負成長', '胡錫進：讓經濟再次強勁起來 是中國各地民眾共同期待', '電金熄火 台股量縮跌76點收14553點 失守月線', '【盤中熱點】載板走強昨日遭錯殺？元宇宙個股午盤後走強；IC設計是什麼？', '美國科技業勞資新戰線：在家工作vs回辦公室', '美國電商、線上旅遊服務業恐放緩 多家股票遭下修評級', '〈焦點股〉政策利多加持 光電、風電概念股人氣高', '〈房產〉全台百萬戶50年老宅年代來臨 每9戶住宅就有1戶', '孫正義悄悄將軟銀持股增至34% 接近可推動私有化水準', '習近平在沙媒發表署名文章 建構新時代中阿命運共同體', '美國會將通過援台百億美元軍費、限制中製晶片禁令', '〈台股盤中〉權值股不給力 跌逾百點摜破月線', '政院拍板 新建案屋頂應設太陽光電、離岸風電範圍擴大', '喬山商用、家用拉貨動能轉強 明年營運續拚成長', '東陽前11月營收195.5億元 超越去年全年', '四大雲端業者分食美國防部訂單 台廠供應鏈雨露均霑', 'iPhone 14產量再砍？蘋果關鍵供應商：需求疲乏令人擔憂', '美國防部公布90億美元JWCC合約得標廠商：亞馬遜、谷歌、微軟和甲骨文', '新冠肺炎是否回歸乙類管理？張伯禮：條件日趨成熟', '〈台幣〉市場觀望FOMC例會 偏弱整理下探30.683元', 'Bernstein分析師：特斯拉有需求問題 利潤恐受壓', '彭博：荷蘭最快下月與美達成協議 對中祭新晶片設備出口禁令', '把握財報空窗期，反彈後仍要回歸基本面', '【決勝關鍵】衰退擔憂四起，台股失守月線支撐', '半導體、金融疲軟  台股失守14600點後跌勢加速跌百點', '明揚小白球訂單滿載到明年首季 2023年業績訂雙位數成長', '中共政治局會議與新十條 都不再提「動態清零」 經濟發展成第一要務', '〈台股盤前〉美債曲線倒掛多頭氣勢放緩 短線面臨壓力', '全球新能源車10月銷量排名出爐 比亞迪勇奪第一', '美股重點新聞摘要2022年12月08日', '土耳其要求油輪出示投保證明 外海塞船情況加劇', '美債曲線倒掛惡化 女股神警告：Fed正在犯下嚴重錯誤', '馬斯克短暫跌出全球首富寶座', 'Carvana債權人簽定協議 破產隱憂浮現 單日暴跌近43% 史上最巨', '〈貴金屬盤後〉美元美債殖利率走軟 金價連二漲 仍收1800美元下方', '俄軍戰場失利 普丁警告：核戰風險正在上升', '〈能源盤後〉中國需求不明確 美石油產品庫存上升 WTI再跌3%下探一年低點', '〈紐約匯市〉衰退陰影籠罩 DXY走軟 中國鬆綁防疫激勵人民幣', '〈美股盤後〉美債曲線倒掛惡化 普丁再發核武威脅 三大指數收低', '〈台股盤前要聞〉台積AZ廠年營收百億美元、台塑四寶下修展望 今日必看財經新聞', '【袁志峰專欄】恒指短線回吐，技術支持位約18300點', '蘋果公布3項新功能 強化用戶數據安全', '加拿大央行宣布升息2碼 暗示緊縮周期接近尾聲', '〈財報〉英特爾旗下Mobileye上季業績亮眼 早盤股價漲逾6%', '車用軟體新創Sonatus募資7500萬美元 鴻海領投盼創合作綜效', '保勝光學11月營收創同期新高 年增4.68%', '緯軟11月營收寫新猷 累計營收首破70億元', '裕民布局離岸風電再下一城 首度引進高速客船', '高成本壓力席捲國產車 中華三菱多數熱門車款調漲1萬元', '瑞銀：2023年將出現拐點 投資人宜及早應對', '〈財報〉湯品醬料需求不受漲價影響 金寶湯調升全年財測', '配合防疫「新十條」 上海、北京發布新規進一步放寬限制', '歐元區第三季GDP終值上修至0.3% 優於預期', '豐興前11月稅前盈餘年減23% 每股稅前賺5.9元', '用股票規劃退休理財今年增逾1成  但逾6成不滿意投報率', '調查顯示：美國消費者對假日購物季保守態度為2013年來之最', '海運業紅利告終？台驊11月營收跌回2年前運價起漲點', '法人：全球經濟低速成長短期不變  停止升息取決通膨數據', '今展科11月營收回溫創半年高 12月急單動能延續', '即使利率跌幅更大 美國房貸需求上周繼續下滑', '【台指操作攻略】空方勢力重新集結  反彈格局即將崩壞', '改善太慢 法國監管機構命令亞馬遜支付350萬美元罰款', '小米印度商務長辭職 未來挑戰困難重重', '三商壽反向ETF部位剩51億元 Q4開始錢進台股', '〈進出口統計〉我對陸港出口值年減2成  減幅創近10年最大', '鉅祥營收回溫持續擴產 11月營收5.83億元改寫同期新高', '鉅亨美股雷達：蘋果傳改變自駕車開發方向 英特爾將開始裁員', '在ESG目標中過於偽善 貝萊德激進股東呼籲CEO芬克下台', '新能源車需求穩定走高 精星11月營收6.44億元改寫單月次高', '特斯拉首次進軍泰國市場 與比亞迪等低價品牌較勁', '全心免疫檢查點強化劑 明年上半年取得一期臨床期中數據', '聚焦儲能題材大黑馬!', '〈進出口統計〉旺季效應落空  財部：Q4出口衰退成定局', 'Uber乘客即起可以在美國賭城拉維加斯召喚自駕車', '需求持續降溫 力智11月營收3億元 探30個月新低', '終端拉貨放緩 豐泰、志強11月營收月減雙位數', '〈英特爾永續日〉友通攜旗下達昇能源 展出兩大能源管理技術', '中華化：看好明年Q1電子化學品表現', '蔡明彰觀點：航空旅遊低基期  年底投資首選', '華新前11月營收1649億元 續登4年同期高', '矽創、昇佳電子11月營收兩樣情 昇佳寫五個月新高', '英業達智慧醫療報捷 電子紙病床卡導入三總等醫療院所', '外資續砍晶圓雙雄、面板雙虎 搶進逾十檔金融股', '可寧衛高煉廠整治已認列20億元 今年完工比率估達7成', '龔明鑫以董事身分出席台積電美國廠典禮 重申去台化議題不存在', '泰山：處分全家股權款約80億元 已入公司帳戶絕無掏空', '美銀：客戶連續4週持續買入美股 以科技股和工業股為主', '紓困特別條例明年中退場 傳染病防治法兩階段修法', '年底搶裝潮效益顯 元晶11月營收飆上9.98億元衝新高', '南光國內外出貨回溫 明年營收、獲利優於今年', '國票金首次現增3億股 股東繳款已全數達陣 總座喊漂亮出擊', '網家商店街啟動資本重組 減資後資本額剩180元', '環球晶11月營收60.46億元 探近4個月低點', '第一金證估台股明年高點上看萬七 外資下半年將回流', '臻鼎子公司鵬鼎擬發行非公開發行A股股票 籌資約175億元', '精英明年營運將優於今年 擬孵第二顆小鑽石', '漢翔三大業務熱 董座樂喊：明年營運拭目以待！', '融程電11月營收月增近3成 創同期新高', '金融存股恐變存骨！金控明年想配息 金管會要看三條件', '光罩11月營收6.93億元 Q4估維持高檔', '宏齊估明年營收成長2成 IC封裝比重突破雙位數', '智原11月營收10.63億元 前11月續創新高', '促銷旺季難敵終端消費疲軟 手機出貨量Q4估年減', '調查：美企CEO對經濟展望的看法跌至2年多新低', '疫情封控影響大 蘋果供應鏈華通、臻鼎11月營收自高點滑落', '〈王道銀行法說〉前三季獲利大增65% 小金雞日盛台駿租賃拚兩年內上市', '〈台塑四寶業績發表〉市況疲弱台塑下修本季展望 南亞、台化悲觀看明年Q1']\n"
     ]
    }
   ],
   "source": [
    "import requests\n",
    "from bs4 import BeautifulSoup as bs\n",
    "import time\n",
    "\n",
    "headers = {'User-Agent':'Mozilla/5.0 (Windows NT 10.0; Win64; x64) AppleWebKit/537.36 (KHTML, like Gecko) Chrome/107.0.0.0 Safari/537.36'}\n",
    "url1 = 'https://api.cnyes.com/media/api/v1/newslist/category/headline?startAt=1669564800&endAt=1670515199&limit=30'\n",
    "r1 = requests.get(url1, headers = headers)\n",
    "title_list1 = []\n",
    "for i in range(0,28):\n",
    "    title_list1.append(r1.json()['items']['data'][i]['title'])\n",
    "# print(title_list1)\n",
    "\n",
    "title_list2 = []\n",
    "for n in range(2,5):\n",
    "    url = 'https://api.cnyes.com/media/api/v1/newslist/category/headline?limit=30&startAt=1669564800&endAt=1670515199&page='+f'{n}'+'&startAt=1669564800&endAt=1670515199&limit=30'\n",
    "    r2 = requests.get(url, headers = headers)\n",
    "    time.sleep(2)\n",
    "    for i in range(0,29):\n",
    "        title_list2.append(r2.json()['items']['data'][i]['title'])\n",
    "    \n",
    "# print(title_list2)\n",
    "title_list = title_list1 + title_list2\n",
    "print(title_list)"
   ]
  },
  {
   "cell_type": "code",
   "execution_count": 2,
   "id": "1ea25988-3037-4e33-8fbc-96511e21949f",
   "metadata": {
    "tags": []
   },
   "outputs": [
    {
     "name": "stdout",
     "output_type": "stream",
     "text": [
      "['https://news.cnyes.com/news/id/5031046', 'https://news.cnyes.com/news/id/5031231', 'https://news.cnyes.com/news/id/5031248', 'https://news.cnyes.com/news/id/5031136', 'https://news.cnyes.com/news/id/5031135', 'https://news.cnyes.com/news/id/5031134', 'https://news.cnyes.com/news/id/5031133', 'https://news.cnyes.com/news/id/5031041', 'https://news.cnyes.com/news/id/5030983', 'https://news.cnyes.com/news/id/5031044', 'https://news.cnyes.com/news/id/5031034', 'https://news.cnyes.com/news/id/5031033', 'https://news.cnyes.com/news/id/5030485', 'https://news.cnyes.com/news/id/5030487', 'https://news.cnyes.com/news/id/5031010', 'https://news.cnyes.com/news/id/5030965', 'https://news.cnyes.com/news/id/5030775', 'https://news.cnyes.com/news/id/5030934', 'https://news.cnyes.com/news/id/5030488', 'https://news.cnyes.com/news/id/5030926', 'https://news.cnyes.com/news/id/5030933', 'https://news.cnyes.com/news/id/5030887', 'https://news.cnyes.com/news/id/5030886', 'https://news.cnyes.com/news/id/5030882', 'https://news.cnyes.com/news/id/5030472', 'https://news.cnyes.com/news/id/5030493', 'https://news.cnyes.com/news/id/5030832', 'https://news.cnyes.com/news/id/5030823', 'https://news.cnyes.com/news/id/5030479', 'https://news.cnyes.com/news/id/5030514', 'https://news.cnyes.com/news/id/5030694', 'https://news.cnyes.com/news/id/5030626', 'https://news.cnyes.com/news/id/5030623', 'https://news.cnyes.com/news/id/5030587', 'https://news.cnyes.com/news/id/5030512', 'https://news.cnyes.com/news/id/5030550', 'https://news.cnyes.com/news/id/5030511', 'https://news.cnyes.com/news/id/5030475', 'https://news.cnyes.com/news/id/5030477', 'https://news.cnyes.com/news/id/5030476', 'https://news.cnyes.com/news/id/5030471', 'https://news.cnyes.com/news/id/5030478', 'https://news.cnyes.com/news/id/5030474', 'https://news.cnyes.com/news/id/5030481', 'https://news.cnyes.com/news/id/5030405', 'https://news.cnyes.com/news/id/5030473', 'https://news.cnyes.com/news/id/5030355', 'https://news.cnyes.com/news/id/5030064', 'https://news.cnyes.com/news/id/5030402', 'https://news.cnyes.com/news/id/5030456', 'https://news.cnyes.com/news/id/5030416', 'https://news.cnyes.com/news/id/5030386', 'https://news.cnyes.com/news/id/5030393', 'https://news.cnyes.com/news/id/5030377', 'https://news.cnyes.com/news/id/5030385', 'https://news.cnyes.com/news/id/5030378', 'https://news.cnyes.com/news/id/5030376', 'https://news.cnyes.com/news/id/5030390', 'https://news.cnyes.com/news/id/5030387', 'https://news.cnyes.com/news/id/5030379', 'https://news.cnyes.com/news/id/5030291', 'https://news.cnyes.com/news/id/5030366', 'https://news.cnyes.com/news/id/5030367', 'https://news.cnyes.com/news/id/5030358', 'https://news.cnyes.com/news/id/5030363', 'https://news.cnyes.com/news/id/5030357', 'https://news.cnyes.com/news/id/5030323', 'https://news.cnyes.com/news/id/5030356', 'https://news.cnyes.com/news/id/5029893', 'https://news.cnyes.com/news/id/5030354', 'https://news.cnyes.com/news/id/5030294', 'https://news.cnyes.com/news/id/5030340', 'https://news.cnyes.com/news/id/5030337', 'https://news.cnyes.com/news/id/5030321', 'https://news.cnyes.com/news/id/5029999', 'https://news.cnyes.com/news/id/5030324', 'https://news.cnyes.com/news/id/5030295', 'https://news.cnyes.com/news/id/5030289', 'https://news.cnyes.com/news/id/5030292', 'https://news.cnyes.com/news/id/5029841', 'https://news.cnyes.com/news/id/5030322', 'https://news.cnyes.com/news/id/5030320', 'https://news.cnyes.com/news/id/5030293', 'https://news.cnyes.com/news/id/5030290', 'https://news.cnyes.com/news/id/5030287', 'https://news.cnyes.com/news/id/5030258', 'https://news.cnyes.com/news/id/5030059', 'https://news.cnyes.com/news/id/5030284', 'https://news.cnyes.com/news/id/5030257', 'https://news.cnyes.com/news/id/5030235', 'https://news.cnyes.com/news/id/5030234', 'https://news.cnyes.com/news/id/5030093', 'https://news.cnyes.com/news/id/5030062', 'https://news.cnyes.com/news/id/5030238', 'https://news.cnyes.com/news/id/5029892', 'https://news.cnyes.com/news/id/5030237', 'https://news.cnyes.com/news/id/5030061', 'https://news.cnyes.com/news/id/5030034', 'https://news.cnyes.com/news/id/5030236', 'https://news.cnyes.com/news/id/5030060', 'https://news.cnyes.com/news/id/5030063', 'https://news.cnyes.com/news/id/5030032', 'https://news.cnyes.com/news/id/5030005', 'https://news.cnyes.com/news/id/5030030', 'https://news.cnyes.com/news/id/5030004', 'https://news.cnyes.com/news/id/5030007', 'https://news.cnyes.com/news/id/5030058', 'https://news.cnyes.com/news/id/5030006', 'https://news.cnyes.com/news/id/5030003', 'https://news.cnyes.com/news/id/5030002', 'https://news.cnyes.com/news/id/5029955', 'https://news.cnyes.com/news/id/5029593', 'https://news.cnyes.com/news/id/5029953', 'https://news.cnyes.com/news/id/5029954', 'https://news.cnyes.com/news/id/5029921']\n"
     ]
    }
   ],
   "source": [
    "base_url = 'https://news.cnyes.com/news/id/'\n",
    "url_list1 = []\n",
    "url_list2 = []\n",
    "newsId_list = []\n",
    "url_list = []\n",
    "url1 = 'https://api.cnyes.com/media/api/v1/newslist/category/headline?startAt=1669564800&endAt=1670515199&limit=30'\n",
    "r1 = requests.get(url1, headers = headers)\n",
    "for i in range(0,28):\n",
    "    newsId_list.append(r1.json()['items']['data'][i]['newsId'])\n",
    "for n in range(2,5):\n",
    "    url = 'https://api.cnyes.com/media/api/v1/newslist/category/headline?limit=30&startAt=1669564800&endAt=1670515199&page='+f'{n}'+'&startAt=1669564800&endAt=1670515199&limit=30'\n",
    "    r2 = requests.get(url, headers = headers)\n",
    "    time.sleep(2)\n",
    "    for i in range(0,29):\n",
    "        newsId_list.append(r2.json()['items']['data'][i]['newsId'])\n",
    "for newsId in newsId_list:\n",
    "    url_list.append(base_url + str(newsId))\n",
    "    \n",
    "print(url_list)"
   ]
  },
  {
   "cell_type": "code",
   "execution_count": 3,
   "id": "dd47031a-4fa3-40b4-bd48-6344c62aab27",
   "metadata": {},
   "outputs": [
    {
     "name": "stdout",
     "output_type": "stream",
     "text": [
      "['2022/12/08 15:29', '2022/12/08 15:28', '2022/12/08 15:26', '2022/12/08 15:25', '2022/12/08 14:58', '2022/12/08 14:46', '2022/12/08 14:43', '2022/12/08 14:04', '2022/12/08 14:00', '2022/12/08 13:53', '2022/12/08 13:42', '2022/12/08 13:42', '2022/12/08 13:25', '2022/12/08 13:24', '2022/12/08 13:16', '2022/12/08 12:19', '2022/12/08 12:07', '2022/12/08 12:05', '2022/12/08 11:59', '2022/12/08 11:57', '2022/12/08 11:56', '2022/12/08 11:55', '2022/12/08 11:36', '2022/12/08 11:34', '2022/12/08 11:07', '2022/12/08 10:50', '2022/12/08 10:48', '2022/12/08 10:48', '2022/12/08 10:18', '2022/12/08 10:15', '2022/12/08 10:03', '2022/12/08 09:25', '2022/12/08 09:24', '2022/12/08 09:22', '2022/12/08 09:11', '2022/12/08 08:33', '2022/12/08 08:26', '2022/12/08 08:07', '2022/12/08 08:04', '2022/12/08 07:53', '2022/12/08 07:11', '2022/12/08 07:06', '2022/12/08 06:30', '2022/12/08 06:16', '2022/12/08 06:03', '2022/12/08 06:02', '2022/12/08 05:49', '2022/12/08 05:10', '2022/12/08 04:50', '2022/12/08 03:56', '2022/12/08 01:53', '2022/12/07 23:43', '2022/12/07 23:35', '2022/12/07 23:35', '2022/12/07 23:34', '2022/12/07 23:33', '2022/12/07 23:32', '2022/12/07 21:54', '2022/12/07 21:40', '2022/12/07 21:30', '2022/12/07 21:21', '2022/12/07 21:17', '2022/12/07 21:00', '2022/12/07 20:53', '2022/12/07 20:47', '2022/12/07 20:42', '2022/12/07 20:25', '2022/12/07 20:25', '2022/12/07 20:20', '2022/12/07 20:16', '2022/12/07 20:06', '2022/12/07 20:00', '2022/12/07 19:52', '2022/12/07 19:50', '2022/12/07 19:50', '2022/12/07 19:44', '2022/12/07 19:40', '2022/12/07 19:30', '2022/12/07 19:30', '2022/12/07 19:30', '2022/12/07 19:28', '2022/12/07 19:26', '2022/12/07 19:20', '2022/12/07 19:20', '2022/12/07 19:10', '2022/12/07 19:10', '2022/12/07 19:00', '2022/12/07 18:57', '2022/12/07 18:56', '2022/12/07 18:54', '2022/12/07 18:40', '2022/12/07 18:39', '2022/12/07 18:38', '2022/12/07 18:33', '2022/12/07 18:32', '2022/12/07 18:29', '2022/12/07 18:26', '2022/12/07 18:24', '2022/12/07 18:21', '2022/12/07 18:07', '2022/12/07 18:03', '2022/12/07 17:55', '2022/12/07 17:48', '2022/12/07 17:48', '2022/12/07 17:47', '2022/12/07 17:46', '2022/12/07 17:44', '2022/12/07 17:44', '2022/12/07 17:43', '2022/12/07 17:35', '2022/12/07 17:25', '2022/12/07 17:25', '2022/12/07 17:05', '2022/12/07 16:54', '2022/12/07 16:48']\n"
     ]
    }
   ],
   "source": [
    "# url = 'https://news.cnyes.com/news/id/5030779'\n",
    "datetime_list = []\n",
    "\n",
    "for url in url_list:\n",
    "    r = requests.get(url, headers = headers)\n",
    "    soup = bs(r.text, 'html.parser')\n",
    "    datetime = soup.find('div', class_ = '_1R6L').find('time')\n",
    "    datetime_list.append(datetime.text)\n",
    "    time.sleep(2)\n",
    "print(datetime_list)"
   ]
  },
  {
   "cell_type": "code",
   "execution_count": 4,
   "id": "3fa072af-59ff-494b-a31c-7618135c336d",
   "metadata": {
    "tags": []
   },
   "outputs": [
    {
     "name": "stdout",
     "output_type": "stream",
     "text": [
      "[['經濟部能源局日前預告明年再生能源電能躉購費率草案，其中，太陽光電估較今年微降 2-3%，震驚業界，茂迪 (6244-TW) 總經理葉正賢今 (8) 日表示，這次政府未計算進口模組疑慮、建置成本增加、全球升息以及人力成本上漲，因此呼籲政府將太陽光電躉購費率調升 2-3%。', '葉正賢指出，今年台灣自第三地進口的模組達 500MW，依據今年總裝置量約 2.2GW 推算，等同有 22% 是使用進口模組，但政府卻依該基礎作為計算公式，導致費率計算失準。', '另外，儘管鋼材等原物料成本開始下滑，但由於美國持續升息，造成新台幣今年匯率急貶，台灣因應利差擴大也跟進升息，導致整體建置成本也維持高檔，並未如政府想像的下滑。', '最後，由於過去這一年來，台灣缺工問題非常嚴重，人力成本上升非常多，因此綜合各種考量，呼籲政府明年躉購費率應該調升 2-3%，以利綠能持續發展。', '另外，行政院會今日通過經濟部擬具的「再生能源發展條例」修正草案，將送請立法院審議，未來新建案屋頂必須設置太陽光電，葉正賢看好，此次台灣跟上國際趨勢，對台灣太陽能產業絕對是正面的，尤其在屋頂面積有限下，對高轉換效率模組需求就會增加，茂迪也將受惠。'], ['政府積極推動「Beyond 5G 低軌通訊衛星計畫」，富采 (3714-TW) 今 (8) 日宣布，集團旗下漢威光電獲經濟部「低軌衛星計畫」執行廠商，成為唯一的射頻關鍵晶片供應商，成功打進低軌衛星國家隊。', '富采表示，漢威光電主要開發低軌衛星地面通訊設備低雜訊放大器，目標提高天線增益 G/T、降低功耗、並大幅縮小尺寸，打破國際大廠壟斷局面，期望建立關鍵技術自主，完善衛星產業鏈，提升台廠競爭優勢。', '漢威光電過去為台灣第一家自主設計開發，並生產出高頻微波積體電路 (MMIC) 元件的公司，發展無線通訊領域中 RF switch 射頻前端產品。', '漢威光電今年轉型為無晶圓廠半導體 IC 設計廠，專注 5G、低軌衛星通訊產品，聚焦 5G 小基站、低軌衛星射頻前端產品的開發，除低軌衛星外，也開發出 5G 小基站寛頻高效率功率放大器等射頻前端產品。', '漢威光電將於此次「Beyond 5G 低軌通訊衛星計畫」中協助供應鏈增加自主技術與供應鏈的強度，加速進軍國際市場，成為全球衛星產業關鍵合作夥伴。'], ['永豐金 (2890-TW) 今(2022)年獲利依然維持正成長，吸引法人資金追捧，根據最新資料統計，專業投資機構投資人持有永豐金股票已經突破四成，持股比率創歷史新高。永豐金控總經理朱士廷表示，永豐金股價近 5 年的總股東報酬 (TSR) 達 144.9%，大幅領先證交所的金融保險類報酬指數的 58.4%，未來將持續深化營運策略，再創新猷回饋股東。', '朱士廷表示，根據最新的持股統計，截至 12 月 7 日，三大法人持有永豐金股票的比重分別為：外資 30.27% 居金控第三名、投信 3.71%、券商 0.74%，此外根據截至今年 8 月 9 日最新的股東名冊，其他專業投資機構持股分別為保險 5.44%、銀行 0.56%、政府相關基金 1.68%，專業投資機構持股合計已達四成，創歷史新高；相較過往專業機構投資人約三成，尤其外資過去大約持股 26%，現在已衝破三成，可以看出明顯提昇不少。', '朱士廷進一步指出，永豐金 TSR（總股東報酬）從 2017 年 12 月 29 日到 2022 年 12 月 7 日，近 5 年期間達 144.9%，大幅領先證交所的金融保險類報酬指數的 58.4%。TSR 超越同業，加上專業機構投資人持股比率顯著提升，顯示永豐金近年的營運實績，包括財務績效與永續治理成果受到投資人的認可。', '永豐金近幾年的財務數字持續創下歷史新高或是領先同業，包含過去三年淨收益及稅後淨利年複合成長率都高達雙位數；今年前三季金控及銀行的利息淨收益續創歷年同期新高；銀行股東權益報酬率 (ROE) 及稅後淨利成長率都為金控旗下銀行第一名；證券各項業務市占率提升，致力於創造多元手續費收益，持續增強營運韌性。', '展望明年，永豐金於上次法說會認為前方有一片迷霧看不清楚，但朱士廷於這次法說會表示「迷霧仍存在，但曙光已乍現」，他說，歐洲能源危機、俄烏戰爭、兩岸局勢等變數仍在，但明年有可望落底的利多因子，包括：暴力升息下的通膨已見減緩，經濟有機會落底，至少升息腳步確定不會像今年這麼激烈，不再像今年 3 碼 3 碼式的升息。至於資本市場方面，預期也不會像今年這樣，會比今年來得正面。', '朱士廷表示，在大環境有望落底下，永豐金願意辦理現金增資 100 億元挹注到子銀行，就是對永豐銀行獲利很期待，同時，對於證券子公司也期待獲利可以優於今年；整體來說，永豐金今年年初提出「數位、跨境、整合、永續」四大策略，將會繼續推動，期望明年獲利動能會比今年好。'], ['混凝土大廠國產 (2504-TW) 今 (8) 日公告 11 月營收，受惠全台科技廠辦建設需求，營收 19.52 億元，持穩前月水準、年減 3.7%；累計前 11 月營收 194.16 億元，年減 1.9%。', '國產表示，科技大廠持續大幅擴充產能，在全台各地擴建新廠，如台積電 (2330-TW) 南科 5 座三奈米廠、新竹寶山二期 4 座二奈米廠，高雄楠梓擴建 2 座晶圓廠，加上近期傳出一奈米將落腳桃園龍潭，都帶動混凝土需求。', '受惠科技建廠需求強勁，帶動本業營運持穩高檔外，國產轉投資的國宇建材 ALC 輕質隔間磚進入量產，訂單動能強勁、呈現供不應求，成為帶動營運新動能。', '除混凝土、輕質磚等建材事業外，國產也積極活化資產，旗下所屬的南港大型開發案日前動工，公司看好，隨著南港房價、地價不斷創新高，潛在開發利益相當龐大。'], ['台股今 (8) 日震盪走跌，摜破月線支撐，多頭陷觀望，電子權值股有壓，金融、傳產也無力，加權指數終場下跌 76.97 點，收在 14553.04 點，三大法人合計賣超 101.92 億元，其中外資已連 3 賣。', '台股今天成交值萎縮至 1817\\xa0億元。觀察法人資金動向，外資賣超 90.54 億元，為連續 3 個交易日賣超；投信轉為買超 5.79\\xa0億元；自營商續站賣方、賣超 17.17\\xa0億元，為連 7 賣。三大法人合計賣超 101.92 億元。', '台積電今天一路在盤下震盪，最低跌至 467 元，終場跌 0.74%，收在 471.5 元；聯電下挫\\xa02.63%，收在 42.5 元；聯發科、國巨、瑞昱、聯詠、日月光投控等權值股均震盪走低；矽力 * - KY 持續遭調節，今天再重摔逾 5%。', '高價股漲跌互見，大立光下跌 0.66%，收 2245 元，旭隼、亞德客 - KY、譜瑞 - KY 下挫 1-2%，AES-KY 大跌超過 5%，不過，力旺、世芯 - KY、嘉澤、創意等仍獲得買盤青睞。', '再生能源族群近來話題不斷，行政院今天通過再生能源發展條例修正草案，太陽光電、離岸風電可望擴大設置，今天吸引資金湧入，其中，新晶投控股價跳空漲停鎖死，茂迪同步觸及漲停，元晶、達能、聯合再生及風電股世紀鋼、中鋼構、上緯投控等多檔均表現強勢。', '中小型股表現活蹦亂跳，其中以觀光股表現最為突出，六角股價衝上漲停\\xa0134 元，亞洲藏壽司同登漲停，雲品、聯發國際大漲逾 7%，老爺知、華園、晶華、漢來美食、八方雲集、美食 - KY 等漲勢都相當凌厲。', '\\xa0']]\n"
     ]
    }
   ],
   "source": [
    "# url = 'https://news.cnyes.com/news/id/5030779'\n",
    "all_text_list = []\n",
    "for url in url_list[:5]:\n",
    "    r = requests.get(url, headers = headers)\n",
    "    soup = bs(r.text, 'html.parser')\n",
    "    text = soup.find('div', class_ = '_2E8y').find_all('p')\n",
    "    time.sleep(2)\n",
    "    text_list = []\n",
    "    for i in range(0, len(text)):\n",
    "        text_list.append(text[i].text)\n",
    "    all_text_list.append(text_list)\n",
    "print(all_text_list)"
   ]
  },
  {
   "cell_type": "code",
   "execution_count": 30,
   "id": "0a1285de-0da6-45ed-bfc1-ce7d8d7815d6",
   "metadata": {},
   "outputs": [
    {
     "name": "stdout",
     "output_type": "stream",
     "text": [
      "{'time': '2022/12/08 15:29', 'title': '〈茂迪展望〉躉購費率不升反降 總座：政府未考量四大因素', 'url': 'https://news.cnyes.com/news/id/5031046', 'text': ['經濟部能源局日前預告明年再生能源電能躉購費率草案，其中，太陽光電估較今年微降 2-3%，震驚業界，茂迪 (6244-TW) 總經理葉正賢今 (8) 日表示，這次政府未計算進口模組疑慮、建置成本增加、全球升息以及人力成本上漲，因此呼籲政府將太陽光電躉購費率調升 2-3%。', '葉正賢指出，今年台灣自第三地進口的模組達 500MW，依據今年總裝置量約 2.2GW 推算，等同有 22% 是使用進口模組，但政府卻依該基礎作為計算公式，導致費率計算失準。', '另外，儘管鋼材等原物料成本開始下滑，但由於美國持續升息，造成新台幣今年匯率急貶，台灣因應利差擴大也跟進升息，導致整體建置成本也維持高檔，並未如政府想像的下滑。', '最後，由於過去這一年來，台灣缺工問題非常嚴重，人力成本上升非常多，因此綜合各種考量，呼籲政府明年躉購費率應該調升 2-3%，以利綠能持續發展。', '另外，行政院會今日通過經濟部擬具的「再生能源發展條例」修正草案，將送請立法院審議，未來新建案屋頂必須設置太陽光電，葉正賢看好，此次台灣跟上國際趨勢，對台灣太陽能產業絕對是正面的，尤其在屋頂面積有限下，對高轉換效率模組需求就會增加，茂迪也將受惠。'], 'src': 'cnyes'}\n"
     ]
    }
   ],
   "source": [
    "index = ['time','title','url','text','src']\n",
    "cnyes_data = []\n",
    "for j in range(0,len(datetime_list[:5])):\n",
    "    content = [datetime_list[j], title_list[j], url_list[j], all_text_list[j],'cnyes']\n",
    "    cnyes_data.append(dict(zip(index, content)))\n",
    "print(cnyes_data[0])\n",
    "# print(cnyes_data[])\n",
    "# import json\n",
    "# print(json.dumps(cnyes_data))"
   ]
  },
  {
   "cell_type": "code",
   "execution_count": null,
   "id": "31f5ff2a-9d11-4aff-9fba-87250b687ab9",
   "metadata": {},
   "outputs": [],
   "source": []
  },
  {
   "cell_type": "code",
   "execution_count": 129,
   "id": "13bc6774-916b-4dfb-ac56-c93156afbae9",
   "metadata": {
    "collapsed": true,
    "jupyter": {
     "outputs_hidden": true
    },
    "tags": []
   },
   "outputs": [
    {
     "name": "stdout",
     "output_type": "stream",
     "text": [
      "['台股高股息 ETF 越來越受投資人青睞，觀察市場上台股高息 ETF 概況，今 (2022) 年新成立了四檔，使得市場上總共有 11 檔高息 ETF，總規模已突破 3000 萬元，總投資人數也突破 200 萬人大關。觀察今年來 11 檔台股高息 ETF 績效表現，其中以群益台灣精選高息 (00919-TW) 上漲 11% 表現最佳，另外維持正報酬的兩檔分別是凱基優選高股息 30(00915-TW)上漲 2.67%、大華優利高填息 30(00918-TW)則上漲 1.13%。', '群益投信表示，市面上目前共有 11 檔高息 ETF 可供選擇，投資人可依照不同理財目的需求以及配息時間搭配做選擇。投資人一定都不希望賺了股息、賠了價差，因此存股也要考量成分股企業獲利成長性。', '投信法人表示，台股已經拉回整理一波，目前正是逢低分批布局的好時點，穩健投資人可以台股高息 ETF 為核心配置穩固資產，參與台股中長期投資契機，攤開台股歷史，正報酬的年度遠勝負報酬，亦即台股長期呈現多頭趨勢，因此即便今年來大盤表現不佳，但若在跌深的此時進場佈局，獲得的潛在收益預期將更大，因這只是加速突顯低廉的投資成本，值此之際正是佈局台股高息 ETF 的大好機會。', '績效居冠的操盤手、群益台灣精選高息 ETF 基金經理人謝明志表示，統計過去 30 年數據顯示，加權指數先後經歷亞洲金融風暴、科技泡沫、911 事件、金融海嘯及新冠疫情等重大事件引起股災，但仍有 22 個年度上漲，亦即台股長期呈現多頭趨勢，其中兼顧企業獲利成長性的高息股更有亮眼的表現。', '以 00919 為例，追蹤的指數成分股定期於每年的 5 月以及 12 月進行成分股審核，股利政策全數公佈後，高息股較易受到資金青睞，股價更易受到拉抬，可達到息利雙收的效益，此外，00919 有收益平準金機制，並且採季配息，也是台灣首檔以 EPS 選股的高息 ETF，滿足投資人打造穩定現金流的需求。\\n\\xa0', '\\xa0']\n"
     ]
    }
   ],
   "source": [
    "url = 'https://news.cnyes.com/news/id/5030779'\n",
    "text_list = []\n",
    "r = requests.get(url, headers = headers)\n",
    "soup = bs(r.text, 'html.parser')\n",
    "text = soup.find('div', class_ = '_2E8y').find_all('p')\n",
    "for i in range(0, len(text)):\n",
    "    # content = []\n",
    "    text_list.append(text[i].text)\n",
    "    # print(text[i].text)\n",
    "# print(content)\n",
    "print(text_list)"
   ]
  }
 ],
 "metadata": {
  "kernelspec": {
   "display_name": "Python 3 (ipykernel)",
   "language": "python",
   "name": "python3"
  },
  "language_info": {
   "codemirror_mode": {
    "name": "ipython",
    "version": 3
   },
   "file_extension": ".py",
   "mimetype": "text/x-python",
   "name": "python",
   "nbconvert_exporter": "python",
   "pygments_lexer": "ipython3",
   "version": "3.8.13"
  }
 },
 "nbformat": 4,
 "nbformat_minor": 5
}
